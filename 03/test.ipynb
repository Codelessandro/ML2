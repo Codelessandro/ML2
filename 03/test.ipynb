{
 "cells": [
  {
   "cell_type": "code",
   "execution_count": 2,
   "metadata": {},
   "outputs": [],
   "source": [
    "import numpy as np\n",
    "import matplotlib.pyplot as plt"
   ]
  },
  {
   "cell_type": "code",
   "execution_count": 111,
   "metadata": {},
   "outputs": [
    {
     "data": {
      "image/png": "[encoded data removed]",
      "text/plain": [
       "<matplotlib.figure.Figure at 0x1044bc290>"
      ]
     },
     "metadata": {},
     "output_type": "display_data"
    },
    {
     "data": {
      "image/png": "[encoded data removed]",
      "text/plain": [
       "<matplotlib.figure.Figure at 0x103d12fd0>"
      ]
     },
     "metadata": {},
     "output_type": "display_data"
    },
    {
     "data": {
      "image/png": "[encoded data removed]",
      "text/plain": [
       "<matplotlib.figure.Figure at 0x103d12ad0>"
      ]
     },
     "metadata": {},
     "output_type": "display_data"
    }
   ],
   "source": [
    "x = np.arange(-10,10,0.5)\n",
    "y= np.arange(-10,10,0.5)\n",
    "\n",
    "\n",
    "def create_meshed_points():\n",
    "    x = np.arange(-10,10,1)\n",
    "    y= np.arange(-10,10,1)\n",
    "    points = []\n",
    "    xv, yv = np.meshgrid(x, y, sparse=False, indexing='ij')\n",
    "    for i in range(x.shape[0]-2):\n",
    "        for j in range(y.shape[0]):\n",
    "            points.append((xv[j,i],yv[j,i]))\n",
    "    return points\n",
    "    \n",
    "\n",
    "def p_x(x):\n",
    "    return np.random.normal(0,1)\n",
    "\n",
    "def dirac(value):\n",
    "    if value==0:\n",
    "        return 99999999 #infinity here\n",
    "    else:\n",
    "        return 0\n",
    "    \n",
    "def p_y_given_x(x,y):\n",
    "    res = 0.5*dirac(y-x)+0.5*dirac(y+x)\n",
    "    return 0.5*dirac(y-x)+0.5*dirac(y+x)\n",
    "    \n",
    "\n",
    "def p_x_y(x,y):\n",
    "    return p_x(x)*p_y_given_x(x,y)\n",
    "\n",
    "def z(delta,x,y):\n",
    "    return x*np.cos(delta)+y*np.sin(delta)\n",
    "    \n",
    "def plot(delta):\n",
    "    points = create_meshed_points()\n",
    "    \n",
    "    calc = map(lambda point: (p_x_y(point[0],point[1]), z(delta,point[0],point[1])) , points)\n",
    "    unzipped = np.array(zip(*calc))\n",
    "    \n",
    "    #scatter_plot(unzipped[1], unzipped[0])\n",
    "    histogram(unzipped[1], unzipped[0])\n",
    "    \n",
    "def scatter_plot(x,y):    \n",
    "    plt.scatter(unzipped[1], unzipped[0])\n",
    "    plt.show()\n",
    "    \n",
    "def histogram(x,y):\n",
    "    plt.hist2d(x, y, (50, 50), cmap=plt.cm.jet)\n",
    "    plt.colorbar()\n",
    "    plt.show()\n",
    "    \n",
    "plot(0)\n",
    "plot(np.pi/8)\n",
    "plot(np.pi/4)\n",
    "    \n",
    "\n"
   ]
  },
  {
   "cell_type": "code",
   "execution_count": null,
   "metadata": {},
   "outputs": [],
   "source": []
  },
  {
   "cell_type": "code",
   "execution_count": null,
   "metadata": {},
   "outputs": [],
   "source": []
  },
  {
   "cell_type": "code",
   "execution_count": null,
   "metadata": {},
   "outputs": [],
   "source": []
  },
  {
   "cell_type": "code",
   "execution_count": null,
   "metadata": {},
   "outputs": [],
   "source": []
  },
  {
   "cell_type": "code",
   "execution_count": null,
   "metadata": {},
   "outputs": [],
   "source": []
  },
  {
   "cell_type": "code",
   "execution_count": null,
   "metadata": {},
   "outputs": [],
   "source": []
  },
  {
   "cell_type": "code",
   "execution_count": null,
   "metadata": {},
   "outputs": [],
   "source": []
  },
  {
   "cell_type": "code",
   "execution_count": null,
   "metadata": {},
   "outputs": [],
   "source": []
  },
  {
   "cell_type": "code",
   "execution_count": null,
   "metadata": {},
   "outputs": [],
   "source": []
  },
  {
   "cell_type": "code",
   "execution_count": null,
   "metadata": {},
   "outputs": [],
   "source": []
  },
  {
   "cell_type": "code",
   "execution_count": null,
   "metadata": {},
   "outputs": [],
   "source": []
  },
  {
   "cell_type": "code",
   "execution_count": null,
   "metadata": {},
   "outputs": [],
   "source": []
  },
  {
   "cell_type": "code",
   "execution_count": null,
   "metadata": {},
   "outputs": [],
   "source": []
  },
  {
   "cell_type": "code",
   "execution_count": null,
   "metadata": {},
   "outputs": [],
   "source": []
  }
 ],
 "metadata": {
  "kernelspec": {
   "display_name": "Python 2",
   "language": "python",
   "name": "python2"
  },
  "language_info": {
   "codemirror_mode": {
    "name": "ipython",
    "version": 2
   },
   "file_extension": ".py",
   "mimetype": "text/x-python",
   "name": "python",
   "nbconvert_exporter": "python",
   "pygments_lexer": "ipython2",
   "version": "2.7.13"
  }
 },
 "nbformat": 4,
 "nbformat_minor": 2
}
